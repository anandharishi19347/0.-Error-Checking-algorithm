{
 "cells": [
  {
   "cell_type": "code",
   "execution_count": null,
   "id": "b5a10346-de4c-4ae5-99a2-610eacec9256",
   "metadata": {},
   "outputs": [],
   "source": [
    "#importing the Libraries#\n",
    "import numpy as np\n",
    "import matplotlib.pyplot as plt\n",
    "import pandas as pd"
   ]
  },
  {
   "cell_type": "code",
   "execution_count": null,
   "id": "fa693759-c35e-4a05-a2bf-4ffb16033b3b",
   "metadata": {},
   "outputs": [],
   "source": [
    "#Reading the Dataset#\n",
    "dataset=pd.read_csv('Mall_Customers.csv')"
   ]
  },
  {
   "cell_type": "code",
   "execution_count": null,
   "id": "4e3fa689-559e-4417-965e-c2dade55ca05",
   "metadata": {},
   "outputs": [],
   "source": [
    "#what saved in this file#\n",
    "dataset"
   ]
  },
  {
   "cell_type": "code",
   "execution_count": null,
   "id": "50a5dc3c-7431-4f6c-90ce-61573d194496",
   "metadata": {},
   "outputs": [],
   "source": [
    "X = dataset.iloc[:,[3,4]].values"
   ]
  },
  {
   "cell_type": "code",
   "execution_count": null,
   "id": "3aa28227-e36f-4b89-9fe2-246c85c813e0",
   "metadata": {},
   "outputs": [],
   "source": [
    "X"
   ]
  },
  {
   "cell_type": "code",
   "execution_count": null,
   "id": "07594d63-33d9-4b90-af9c-2ac371394b3b",
   "metadata": {},
   "outputs": [],
   "source": [
    "from sklearn.cluster import KMeans \n",
    "list1 = []\n",
    "for i in range(1,11):\n",
    "    kmeans = KMeans(n_clusters = i, init = 'k-means++',random_state = 42)\n",
    "    kmeans.fit(X)\n",
    "    list1.append(kmeans.inertia_)\n",
    "plt.plot(range(1,11), list1)\n",
    "plt.title('The Elbow Method')\n",
    "plt.xlabel('Number of clusters')\n",
    "plt.ylabel('WCSS')\n",
    "plt.show()"
   ]
  },
  {
   "cell_type": "code",
   "execution_count": null,
   "id": "2c50505f-11cd-465c-bd67-856cc847da24",
   "metadata": {},
   "outputs": [],
   "source": [
    "list1"
   ]
  },
  {
   "cell_type": "code",
   "execution_count": null,
   "id": "387829eb-48d0-411d-9d77-9ccdaf2135c3",
   "metadata": {},
   "outputs": [],
   "source": [
    "from sklearn.cluster import KMeans\n",
    "kmeans = KMeans(n_clusters = 5, init = 'k-means++',random_state = 42)\n",
    "y_kmeans = kmeans.fit_predict(X)"
   ]
  },
  {
   "cell_type": "code",
   "execution_count": null,
   "id": "2698daca-62c4-4b40-adf5-302f59320ebf",
   "metadata": {},
   "outputs": [],
   "source": [
    "y_kmeans"
   ]
  },
  {
   "cell_type": "code",
   "execution_count": null,
   "id": "2dd3f0b3-55e9-4e1a-b3db-5b0b1c7ba67f",
   "metadata": {},
   "outputs": [],
   "source": [
    "supervised = dataset"
   ]
  },
  {
   "cell_type": "code",
   "execution_count": null,
   "id": "6cbec04a-be4c-4342-9473-810e5e019ec8",
   "metadata": {},
   "outputs": [],
   "source": [
    "supervised"
   ]
  },
  {
   "cell_type": "code",
   "execution_count": null,
   "id": "97dd7cf4-4acd-4df6-96f0-e823e03649f4",
   "metadata": {},
   "outputs": [],
   "source": [
    "supervised['Cluster_group']=y_kmeans"
   ]
  },
  {
   "cell_type": "code",
   "execution_count": null,
   "id": "81becbcf-9af7-44f6-a88b-e80828033fb2",
   "metadata": {},
   "outputs": [],
   "source": [
    "supervised"
   ]
  },
  {
   "cell_type": "code",
   "execution_count": null,
   "id": "40865d55-480d-4a8d-a90f-a0bea5447ca3",
   "metadata": {},
   "outputs": [],
   "source": [
    "supervised.to_csv(\"cluster.csv\",index=False)"
   ]
  },
  {
   "cell_type": "code",
   "execution_count": null,
   "id": "325be61c-e932-4cbc-9f9e-5ca88d9efba8",
   "metadata": {},
   "outputs": [],
   "source": [
    "dir(kmeans)"
   ]
  },
  {
   "cell_type": "code",
   "execution_count": null,
   "id": "4b0ccfe7-270f-49c1-9bdd-4e76a41e7737",
   "metadata": {},
   "outputs": [],
   "source": [
    "centroids=kmeans.cluster_centers_"
   ]
  },
  {
   "cell_type": "code",
   "execution_count": null,
   "id": "1d2f5a08-1466-4a99-9ee3-1ee3cffc16f5",
   "metadata": {},
   "outputs": [],
   "source": [
    "centroids"
   ]
  },
  {
   "cell_type": "code",
   "execution_count": null,
   "id": "de90011f-9229-43e4-aa8a-1c3cee7279a7",
   "metadata": {},
   "outputs": [],
   "source": [
    "y_kmeans"
   ]
  },
  {
   "cell_type": "code",
   "execution_count": null,
   "id": "ca011cd9-f653-4aa9-ab1d-6f3f985d5314",
   "metadata": {},
   "outputs": [],
   "source": [
    "supervised.columns[3]"
   ]
  },
  {
   "cell_type": "code",
   "execution_count": null,
   "id": "cefcc349-70fa-44bb-85e1-30e5e7405f2c",
   "metadata": {},
   "outputs": [],
   "source": [
    "supervised.columns"
   ]
  },
  {
   "cell_type": "code",
   "execution_count": null,
   "id": "131f7c76-6730-43bf-9337-1ce1a1514552",
   "metadata": {},
   "outputs": [],
   "source": [
    "import seaborn as sns\n",
    "facet = sns.lmplot(data=supervised, x=supervised.columns[3], y=supervised.columns[4], hue=supervised.columns[5],fit_reg=False,legend=True, legend_out=True)"
   ]
  },
  {
   "cell_type": "code",
   "execution_count": null,
   "id": "bc1d817e-3b4b-46ab-a2ac-358ea2ba9bb5",
   "metadata": {},
   "outputs": [],
   "source": []
  }
 ],
 "metadata": {
  "kernelspec": {
   "display_name": "Python 3 (ipykernel)",
   "language": "python",
   "name": "python3"
  },
  "language_info": {
   "codemirror_mode": {
    "name": "ipython",
    "version": 3
   },
   "file_extension": ".py",
   "mimetype": "text/x-python",
   "name": "python",
   "nbconvert_exporter": "python",
   "pygments_lexer": "ipython3",
   "version": "3.11.7"
  }
 },
 "nbformat": 4,
 "nbformat_minor": 5
}
